{
 "cells": [
  {
   "cell_type": "markdown",
   "id": "passive-tomorrow",
   "metadata": {},
   "source": [
    "# Simulating the Rolling of Two Dice\n",
    "### Using Monte Carlo Method\n",
    "\n",
    "<img src=\"./asset/TwoDice-58bddad45f9b58af5c4aa0d4.jpg\">"
   ]
  },
  {
   "cell_type": "markdown",
   "id": "arbitrary-surname",
   "metadata": {},
   "source": [
    "## A Fortran 90 Code Solution"
   ]
  },
  {
   "cell_type": "markdown",
   "id": "lesbian-prerequisite",
   "metadata": {},
   "source": [
    "\n",
    "``` fortran\n",
    "program fair_dice_simulation\n",
    "\n",
    "!*****************************************************************************80\n",
    "!\n",
    "!! FAIR_DICE_SIMULATION simulates N throws of two fair dice.\n",
    "!\n",
    "!  Usage:\n",
    "!\n",
    "!    fair_dice n\n",
    "!\n",
    "!    where\n",
    "!\n",
    "!    * n is the number of times the dice should be thrown.\n",
    "!\n",
    "!*****************************************************************************80\n",
    "!  Date Created: 25th Jan 2021\n",
    "!  Last Modified:\n",
    "!\n",
    "!  Author:\n",
    "!\n",
    "!    Mekonnen Assefa\n",
    "!\n",
    "!  Addis Ababa University\n",
    "!\n",
    "!   School of Natrual and Computational Science\n",
    "!   Department of Computational Data Science\n",
    "!\n",
    "!  Course:\n",
    "!\n",
    "!   Introduction to Computational Science and Basics of Computer Programming\n",
    "!\n",
    "!  Course ID: (CDSC 601)\n",
    "!\n",
    "!  Instructor: Addisu G. Semie, PhD\n",
    "!     Asst. Prof.,Computational Data Science Program,\n",
    "!     Email: addisu.semie@aau.edu.e!\n",
    "!*****************************************************************************80\n",
    "!  Parameters:\n",
    "!\n",
    "!    Command line, integer ( kind = 4 ) N, the number of times the dice\n",
    "!    are thrown.\n",
    "!\n",
    "!*****************************************************************************80\n",
    "\n",
    "\n",
    "```"
   ]
  },
  {
   "cell_type": "markdown",
   "id": "conventional-specific",
   "metadata": {},
   "source": [
    "``` fortran\n",
    "\n",
    "   implicit none\n",
    "\n",
    "   integer(kind=4) arg_num\n",
    "   character(len=255) data_filename\n",
    "   integer(kind=4) data_unit\n",
    "   integer(kind=4) die1\n",
    "   integer(kind=4) die2\n",
    "   integer(kind=4) i\n",
    "   integer(kind=4) i4_uniform\n",
    "   integer(kind=4) iarg\n",
    "   integer(kind=4) ierror\n",
    "   integer(kind=4) last\n",
    "   integer(kind=4) n\n",
    "   integer(kind=4) seed\n",
    "   integer(kind=4) score\n",
    "   integer(kind=4) score_count(12)\n",
    "   character(len=80) string\n",
    "\n",
    "   integer, dimension(8) :: time_values\n",
    "   integer :: start_time, end_time, count_rate\n",
    "```"
   ]
  },
  {
   "cell_type": "markdown",
   "id": "organic-killing",
   "metadata": {},
   "source": [
    "``` fortran\n",
    "    \n",
    "   call system_clock(start_time, count_rate)\n",
    "\n",
    "   call date_and_time(VALUES=time_values)\n",
    "\n",
    "   write (*, '(a)') ''\n",
    "   write (*, '(a)') 'FAIR_DICE_SIMULATION:'\n",
    "   write (*, '(a)') '  FORTRAN90 version'\n",
    "   write (*, '(a)') '  Simulate N throws of a pair of fair dice.'\n",
    "!\n",
    "!  Get the number of command line arguments.\n",
    "!\n",
    "   arg_num = iargc()\n",
    "!\n",
    "!  Get the quadrature file root name:\n",
    "!\n",
    "   if (1 <= arg_num) then\n",
    "\n",
    "      iarg = 1\n",
    "      call getarg(iarg, string)\n",
    "      call s_to_i4(string, n, ierror, last)\n",
    "   else\n",
    "\n",
    "      write (*, '(a)') ' '\n",
    "      write (*, '(a)') '  Enter N, the number of times the dice are thrown: '\n",
    "\n",
    "      read (*, *) n\n",
    "\n",
    "   end if\n",
    "!\n",
    "\n",
    "```"
   ]
  },
  {
   "cell_type": "markdown",
   "id": "extreme-milton",
   "metadata": {},
   "source": [
    "``` fortran\n",
    "!\n",
    "!  Initialize the random number generator.\n",
    "!\n",
    "   call get_seed(seed)\n",
    "!\n",
    "!  For convenience, include slots for 0 and 1, even though they never occur.\n",
    "!\n",
    "   score_count(1:12) = 0\n",
    "!\n",
    "!  Roll N times.\n",
    "!\n",
    "   do i = 1, n\n",
    "      die1 = i4_uniform(1, 6, seed)\n",
    "      die2 = i4_uniform(1, 6, seed)\n",
    "      score = die1 + die2\n",
    "      score_count(score) = score_count(score) + 1\n",
    "   end do\n",
    "!\n",
    "!  Write the data file.\n",
    "!\n",
    "   data_filename = 'fair_dice_data.txt'\n",
    "   call get_unit(data_unit)\n",
    "   open (unit=data_unit, file=data_filename, status='replace')\n",
    "\n",
    "   do score = 2, 12\n",
    "      write (data_unit, '(2x,i2,2x,i6)') score, score_count(score)\n",
    "   end do\n",
    "\n",
    "   close (unit=data_unit)\n",
    "   write (*, '(a)') ' '\n",
    "   write (*, '(a)') '  Created data file \"'//trim(data_filename)//'\".'\n",
    "!\n",
    "!  Terminate.\n",
    "!\n",
    "   write (*, '(a)') ''\n",
    "   write (*, '(a)') 'FAIR_DICE_SIMULATION:'\n",
    "   write (*, '(a)') ' - Normal end of execution.'\n",
    "   write (*, '(a)') ''\n",
    "\n",
    "\n",
    "\n",
    "```"
   ]
  },
  {
   "cell_type": "markdown",
   "id": "subject-shopper",
   "metadata": {},
   "source": [
    "``` fortran\n",
    "    \n",
    "! \n",
    "! PROGRAM FINISHED DATE AND TIME \n",
    "!\n",
    "   \n",
    "  write(*, '(a,/,5x,2(a,i2.2),a,i4.4,/,5x,3(a,i2.2))') &\n",
    "        '-------Program finished--------', & \n",
    "        'Date: ',time_values(3),'/',time_values(2),'/',time_values(1), &\n",
    "        'Time: ',time_values(5),':',time_values(6),':',time_values(7)\n",
    "  write(*, '(a31)') '-----------------------------------------------'\n",
    "!\n",
    "! Process WALL TIME\n",
    "!\n",
    "  call system_clock(end_time)\n",
    "  write(*,'(a,f10.3,a)') 'Total Wall time:',dble(end_time -  &\n",
    "        start_time)/dble(count_rate),' sec'\n",
    "\n",
    "  write(*, '(a31)') '-----------------------------------------------'\n",
    "\n",
    "end program fair_dice_simulation\n",
    "\n",
    "```"
   ]
  },
  {
   "cell_type": "markdown",
   "id": "above-petite",
   "metadata": {},
   "source": [
    "#### By default the random number generator uses the current system time.\n",
    "\n",
    "The seed() method is used to initialize the random number generator."
   ]
  },
  {
   "cell_type": "markdown",
   "id": "streaming-symposium",
   "metadata": {},
   "source": [
    "``` fortran\n",
    "\n",
    "subroutine get_seed(seed)\n",
    "\n",
    "!*****************************************************************************80\n",
    "!\n",
    "!! GET_SEED returns a seed for the random number generator.\n",
    "!\n",
    "!  Discussion:\n",
    "!\n",
    "!    The seed depends on the current time, and ought to be (slightly)\n",
    "!    different every millisecond.  Once the seed is obtained, a random\n",
    "!    number generator should be called a few times to further process\n",
    "!    the seed.\n",
    "!\n",
    "!\n",
    "!  Parameters:\n",
    "!\n",
    "!    Output, integer ( kind = 4 ) SEED, a pseudorandom seed value.\n",
    "!\n",
    "   implicit none\n",
    "\n",
    "   integer(kind=4), parameter :: i4_huge = 2147483647\n",
    "   integer(kind=4) seed\n",
    "   real(kind=8) temp\n",
    "   character(len=10) time\n",
    "   character(len=8) today\n",
    "   integer(kind=4) values(8)\n",
    "   character(len=5) zone\n",
    "\n",
    "   call date_and_time(today, time, zone, values)\n",
    "\n",
    "   temp = 0.0D+00\n",
    "\n",
    "   temp = temp + real(values(2) - 1, kind=8)/11.0D+00\n",
    "   temp = temp + real(values(3) - 1, kind=8)/30.0D+00\n",
    "   temp = temp + real(values(5), kind=8)/23.0D+00\n",
    "   temp = temp + real(values(6), kind=8)/59.0D+00\n",
    "   temp = temp + real(values(7), kind=8)/59.0D+00\n",
    "   temp = temp + real(values(8), kind=8)/999.0D+00\n",
    "   temp = temp/6.0D+00\n",
    "\n",
    "   do while (temp <= 0.0D+00)\n",
    "      temp = temp + 1.0D+00\n",
    "   end do\n",
    "\n",
    "   do while (1.0D+00 < temp)\n",
    "      temp = temp - 1.0D+00\n",
    "   end do\n",
    "\n",
    "   seed = int(real(i4_huge, kind=8)*temp)\n",
    "\n",
    "```"
   ]
  },
  {
   "cell_type": "markdown",
   "id": "relative-wrestling",
   "metadata": {},
   "source": [
    "#### Generate UNIT"
   ]
  },
  {
   "cell_type": "markdown",
   "id": "sorted-yemen",
   "metadata": {},
   "source": [
    "``` fortran \n",
    "subroutine get_unit(iunit)\n",
    "\n",
    "```"
   ]
  },
  {
   "cell_type": "markdown",
   "id": "minus-narrow",
   "metadata": {},
   "source": [
    "####  I4_UNIFORM returns a scaled pseudorandom I4.\n",
    "\n",
    "-    An I4 is an integer ( kind = 4 ) value.\n",
    "-    The pseudorandom number will be scaled to be uniformly distributed between A and B."
   ]
  },
  {
   "cell_type": "code",
   "execution_count": null,
   "id": "wooden-disclosure",
   "metadata": {},
   "outputs": [
    {
     "name": "stdout",
     "output_type": "stream",
     "text": [
      "\n",
      "FAIR_DICE_SIMULATION:\n",
      "  FORTRAN90 version\n",
      "  Simulate N throws of a pair of fair dice.\n",
      " \n",
      "  Enter N, the number of times the dice are thrown: \n"
     ]
    }
   ],
   "source": [
    "# Run Program\n",
    "!./run.x"
   ]
  },
  {
   "cell_type": "code",
   "execution_count": null,
   "id": "nearby-institute",
   "metadata": {},
   "outputs": [],
   "source": [
    "#Run Output of Data\n",
    "!cat fair_dice_data.txt"
   ]
  },
  {
   "cell_type": "markdown",
   "id": "accepted-socket",
   "metadata": {},
   "source": [
    "### Generate Plotting Data"
   ]
  },
  {
   "cell_type": "code",
   "execution_count": 2,
   "id": "theoretical-default",
   "metadata": {},
   "outputs": [],
   "source": [
    "import numpy as np\n",
    "import pandas as pd\n",
    "import matplotlib as mpl\n",
    "import matplotlib.pyplot as plt\n",
    "plt.style.use('classic')\n",
    "\n",
    "%matplotlib inline"
   ]
  },
  {
   "cell_type": "code",
   "execution_count": null,
   "id": "frequent-marker",
   "metadata": {},
   "outputs": [],
   "source": [
    "# plt.style.use('classic')"
   ]
  },
  {
   "cell_type": "code",
   "execution_count": 3,
   "id": "concerned-mexican",
   "metadata": {},
   "outputs": [],
   "source": [
    "import seaborn as sns\n",
    "sns.set()"
   ]
  },
  {
   "cell_type": "code",
   "execution_count": 4,
   "id": "incorporated-consensus",
   "metadata": {},
   "outputs": [],
   "source": [
    "mydata = np.loadtxt('./asset/fair_dice_data.txt')"
   ]
  },
  {
   "cell_type": "code",
   "execution_count": 5,
   "id": "occasional-latest",
   "metadata": {},
   "outputs": [],
   "source": [
    "data5k = np.loadtxt('./asset/fair_dice_data_5000.txt')"
   ]
  },
  {
   "cell_type": "code",
   "execution_count": 6,
   "id": "organizational-fancy",
   "metadata": {},
   "outputs": [],
   "source": [
    "\n",
    "data5m = np.loadtxt('./asset/fair_dice_data_5m.txt')\n"
   ]
  },
  {
   "cell_type": "code",
   "execution_count": 30,
   "id": "dynamic-medline",
   "metadata": {},
   "outputs": [
    {
     "data": {
      "image/png": "[encoded data removed]",
      "text/plain": [
       "<Figure size 432x288 with 1 Axes>"
      ]
     },
     "metadata": {},
     "output_type": "display_data"
    }
   ],
   "source": [
    "#fig = plt.figure()\n",
    "plt.title('Fair Dice Simulation - 100 Rolls', fontsize=20)\n",
    "#plt.subtitle('1 Billion Dice - 54.017sec')\n",
    "plt.xlabel('-Score-', fontsize=18)\n",
    "plt.ylabel('-Frequency-', fontsize=16)\n",
    "#fig.savefig('test.jpg')\n",
    "plt.bar(mydata[:,0], mydata[:,1])\n",
    "\n",
    "plt.show()"
   ]
  },
  {
   "cell_type": "code",
   "execution_count": 34,
   "id": "decent-medication",
   "metadata": {},
   "outputs": [
    {
     "data": {
      "image/png": "[encoded data removed]",
      "text/plain": [
       "<Figure size 432x288 with 1 Axes>"
      ]
     },
     "metadata": {},
     "output_type": "display_data"
    }
   ],
   "source": [
    "plt.title('Fair Dice Simulation 5K Rolls', fontsize=20)\n",
    "#plt.subtitle('1 Billion Dice - 54.017sec')\n",
    "plt.xlabel('-Score-', fontsize=18)\n",
    "plt.ylabel('-Frequency-', fontsize=16)\n",
    "#fig.savefig('test.jpg')\n",
    "\n",
    "\n",
    "plt.bar(data5k[:,0], data5k[:,1], color=['green'])\n",
    "\n",
    "plt.show()"
   ]
  },
  {
   "cell_type": "code",
   "execution_count": 32,
   "id": "velvet-turning",
   "metadata": {},
   "outputs": [
    {
     "data": {
      "image/png": "[encoded data removed]",
      "text/plain": [
       "<Figure size 432x288 with 1 Axes>"
      ]
     },
     "metadata": {},
     "output_type": "display_data"
    }
   ],
   "source": [
    "plt.title('Fair Dice Simulation 5M Rolls', fontsize=20)\n",
    "#plt.subtitle('1 Billion Dice - 54.017sec')\n",
    "plt.xlabel('-Score-', fontsize=18)\n",
    "plt.ylabel('-Frequency-', fontsize=16)\n",
    "#fig.savefig('test.jpg')\n",
    "\n",
    "\n",
    "plt.bar(data5m[:,0], data5m[:,1], color=['red'])\n",
    "\n",
    "plt.show()"
   ]
  },
  {
   "cell_type": "code",
   "execution_count": 7,
   "id": "light-direction",
   "metadata": {},
   "outputs": [],
   "source": [
    "df = pd.read_csv('./asset/fair_dice_data_5000.txt', sep='\\s+')"
   ]
  },
  {
   "cell_type": "code",
   "execution_count": 8,
   "id": "convinced-greensboro",
   "metadata": {},
   "outputs": [],
   "source": [
    "df.columns = ['Score', 'Frequency']"
   ]
  },
  {
   "cell_type": "code",
   "execution_count": 9,
   "id": "disturbed-soviet",
   "metadata": {},
   "outputs": [
    {
     "data": {
      "text/html": [
       "<div>\n",
       "<style scoped>\n",
       "    .dataframe tbody tr th:only-of-type {\n",
       "        vertical-align: middle;\n",
       "    }\n",
       "\n",
       "    .dataframe tbody tr th {\n",
       "        vertical-align: top;\n",
       "    }\n",
       "\n",
       "    .dataframe thead th {\n",
       "        text-align: right;\n",
       "    }\n",
       "</style>\n",
       "<table border=\"1\" class=\"dataframe\">\n",
       "  <thead>\n",
       "    <tr style=\"text-align: right;\">\n",
       "      <th></th>\n",
       "      <th>Score</th>\n",
       "      <th>Frequency</th>\n",
       "    </tr>\n",
       "  </thead>\n",
       "  <tbody>\n",
       "    <tr>\n",
       "      <th>0</th>\n",
       "      <td>3</td>\n",
       "      <td>261</td>\n",
       "    </tr>\n",
       "    <tr>\n",
       "      <th>1</th>\n",
       "      <td>4</td>\n",
       "      <td>409</td>\n",
       "    </tr>\n",
       "    <tr>\n",
       "      <th>2</th>\n",
       "      <td>5</td>\n",
       "      <td>577</td>\n",
       "    </tr>\n",
       "    <tr>\n",
       "      <th>3</th>\n",
       "      <td>6</td>\n",
       "      <td>682</td>\n",
       "    </tr>\n",
       "    <tr>\n",
       "      <th>4</th>\n",
       "      <td>7</td>\n",
       "      <td>829</td>\n",
       "    </tr>\n",
       "    <tr>\n",
       "      <th>5</th>\n",
       "      <td>8</td>\n",
       "      <td>719</td>\n",
       "    </tr>\n",
       "    <tr>\n",
       "      <th>6</th>\n",
       "      <td>9</td>\n",
       "      <td>528</td>\n",
       "    </tr>\n",
       "    <tr>\n",
       "      <th>7</th>\n",
       "      <td>10</td>\n",
       "      <td>419</td>\n",
       "    </tr>\n",
       "    <tr>\n",
       "      <th>8</th>\n",
       "      <td>11</td>\n",
       "      <td>305</td>\n",
       "    </tr>\n",
       "    <tr>\n",
       "      <th>9</th>\n",
       "      <td>12</td>\n",
       "      <td>118</td>\n",
       "    </tr>\n",
       "  </tbody>\n",
       "</table>\n",
       "</div>"
      ],
      "text/plain": [
       "   Score  Frequency\n",
       "0      3        261\n",
       "1      4        409\n",
       "2      5        577\n",
       "3      6        682\n",
       "4      7        829\n",
       "5      8        719\n",
       "6      9        528\n",
       "7     10        419\n",
       "8     11        305\n",
       "9     12        118"
      ]
     },
     "execution_count": 9,
     "metadata": {},
     "output_type": "execute_result"
    }
   ],
   "source": [
    "df"
   ]
  }
 ],
 "metadata": {
  "kernelspec": {
   "display_name": "Python 3",
   "language": "python",
   "name": "python3"
  },
  "language_info": {
   "codemirror_mode": {
    "name": "ipython",
    "version": 3
   },
   "file_extension": ".py",
   "mimetype": "text/x-python",
   "name": "python",
   "nbconvert_exporter": "python",
   "pygments_lexer": "ipython3",
   "version": "3.7.9"
  }
 },
 "nbformat": 4,
 "nbformat_minor": 5
}
